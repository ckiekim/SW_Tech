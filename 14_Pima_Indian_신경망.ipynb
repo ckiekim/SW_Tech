{
  "nbformat": 4,
  "nbformat_minor": 0,
  "metadata": {
    "colab": {
      "name": "14_Pima_Indian_신경망.ipynb",
      "provenance": [],
      "collapsed_sections": []
    },
    "kernelspec": {
      "name": "python3",
      "display_name": "Python 3"
    },
    "language_info": {
      "name": "python"
    }
  },
  "cells": [
    {
      "cell_type": "markdown",
      "metadata": {
        "id": "DOIyDLyiuazE"
      },
      "source": [
        "# 피마 인디언 당뇨병 예측 - 신경망(Neural Network)"
      ]
    },
    {
      "cell_type": "code",
      "metadata": {
        "colab": {
          "resources": {
            "http://localhost:8080/nbextensions/google.colab/files.js": {
              "data": "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",
              "ok": true,
              "headers": [
                [
                  "content-type",
                  "application/javascript"
                ]
              ],
              "status": 200,
              "status_text": ""
            }
          },
          "base_uri": "https://localhost:8080/",
          "height": 94
        },
        "id": "RlcYoD-iuSqS",
        "outputId": "dab319e1-9c65-4820-d64e-168fd2307389"
      },
      "source": [
        "from google.colab import files\n",
        "uploaded = files.upload()\n",
        "filename = list(uploaded.keys())[0]\n",
        "filename"
      ],
      "execution_count": 1,
      "outputs": [
        {
          "output_type": "display_data",
          "data": {
            "text/html": [
              "\n",
              "     <input type=\"file\" id=\"files-25a1b868-585b-4565-b3bc-03032ffaded0\" name=\"files[]\" multiple disabled\n",
              "        style=\"border:none\" />\n",
              "     <output id=\"result-25a1b868-585b-4565-b3bc-03032ffaded0\">\n",
              "      Upload widget is only available when the cell has been executed in the\n",
              "      current browser session. Please rerun this cell to enable.\n",
              "      </output>\n",
              "      <script src=\"/nbextensions/google.colab/files.js\"></script> "
            ],
            "text/plain": [
              "<IPython.core.display.HTML object>"
            ]
          },
          "metadata": {
            "tags": []
          }
        },
        {
          "output_type": "stream",
          "text": [
            "Saving pima-indians-diabetes.csv to pima-indians-diabetes.csv\n"
          ],
          "name": "stdout"
        },
        {
          "output_type": "execute_result",
          "data": {
            "application/vnd.google.colaboratory.intrinsic+json": {
              "type": "string"
            },
            "text/plain": [
              "'pima-indians-diabetes.csv'"
            ]
          },
          "metadata": {
            "tags": []
          },
          "execution_count": 1
        }
      ]
    },
    {
      "cell_type": "markdown",
      "metadata": {
        "id": "VBCJjzlbu2xG"
      },
      "source": [
        "### 전처리"
      ]
    },
    {
      "cell_type": "code",
      "metadata": {
        "id": "LxQWrCrpuqsk"
      },
      "source": [
        "import numpy as np\n",
        "import pandas as pd"
      ],
      "execution_count": 2,
      "outputs": []
    },
    {
      "cell_type": "code",
      "metadata": {
        "colab": {
          "base_uri": "https://localhost:8080/",
          "height": 204
        },
        "id": "jgK16bQNvDvi",
        "outputId": "f48c2aad-3469-440b-b30a-f0c28ceda7ef"
      },
      "source": [
        "df = pd.read_csv(filename, header=None, skiprows=9)\n",
        "df.head()"
      ],
      "execution_count": 4,
      "outputs": [
        {
          "output_type": "execute_result",
          "data": {
            "text/html": [
              "<div>\n",
              "<style scoped>\n",
              "    .dataframe tbody tr th:only-of-type {\n",
              "        vertical-align: middle;\n",
              "    }\n",
              "\n",
              "    .dataframe tbody tr th {\n",
              "        vertical-align: top;\n",
              "    }\n",
              "\n",
              "    .dataframe thead th {\n",
              "        text-align: right;\n",
              "    }\n",
              "</style>\n",
              "<table border=\"1\" class=\"dataframe\">\n",
              "  <thead>\n",
              "    <tr style=\"text-align: right;\">\n",
              "      <th></th>\n",
              "      <th>0</th>\n",
              "      <th>1</th>\n",
              "      <th>2</th>\n",
              "      <th>3</th>\n",
              "      <th>4</th>\n",
              "      <th>5</th>\n",
              "      <th>6</th>\n",
              "      <th>7</th>\n",
              "      <th>8</th>\n",
              "    </tr>\n",
              "  </thead>\n",
              "  <tbody>\n",
              "    <tr>\n",
              "      <th>0</th>\n",
              "      <td>6</td>\n",
              "      <td>148</td>\n",
              "      <td>72</td>\n",
              "      <td>35</td>\n",
              "      <td>0</td>\n",
              "      <td>33.6</td>\n",
              "      <td>0.627</td>\n",
              "      <td>50</td>\n",
              "      <td>1</td>\n",
              "    </tr>\n",
              "    <tr>\n",
              "      <th>1</th>\n",
              "      <td>1</td>\n",
              "      <td>85</td>\n",
              "      <td>66</td>\n",
              "      <td>29</td>\n",
              "      <td>0</td>\n",
              "      <td>26.6</td>\n",
              "      <td>0.351</td>\n",
              "      <td>31</td>\n",
              "      <td>0</td>\n",
              "    </tr>\n",
              "    <tr>\n",
              "      <th>2</th>\n",
              "      <td>8</td>\n",
              "      <td>183</td>\n",
              "      <td>64</td>\n",
              "      <td>0</td>\n",
              "      <td>0</td>\n",
              "      <td>23.3</td>\n",
              "      <td>0.672</td>\n",
              "      <td>32</td>\n",
              "      <td>1</td>\n",
              "    </tr>\n",
              "    <tr>\n",
              "      <th>3</th>\n",
              "      <td>1</td>\n",
              "      <td>89</td>\n",
              "      <td>66</td>\n",
              "      <td>23</td>\n",
              "      <td>94</td>\n",
              "      <td>28.1</td>\n",
              "      <td>0.167</td>\n",
              "      <td>21</td>\n",
              "      <td>0</td>\n",
              "    </tr>\n",
              "    <tr>\n",
              "      <th>4</th>\n",
              "      <td>0</td>\n",
              "      <td>137</td>\n",
              "      <td>40</td>\n",
              "      <td>35</td>\n",
              "      <td>168</td>\n",
              "      <td>43.1</td>\n",
              "      <td>2.288</td>\n",
              "      <td>33</td>\n",
              "      <td>1</td>\n",
              "    </tr>\n",
              "  </tbody>\n",
              "</table>\n",
              "</div>"
            ],
            "text/plain": [
              "   0    1   2   3    4     5      6   7  8\n",
              "0  6  148  72  35    0  33.6  0.627  50  1\n",
              "1  1   85  66  29    0  26.6  0.351  31  0\n",
              "2  8  183  64   0    0  23.3  0.672  32  1\n",
              "3  1   89  66  23   94  28.1  0.167  21  0\n",
              "4  0  137  40  35  168  43.1  2.288  33  1"
            ]
          },
          "metadata": {
            "tags": []
          },
          "execution_count": 4
        }
      ]
    },
    {
      "cell_type": "code",
      "metadata": {
        "colab": {
          "base_uri": "https://localhost:8080/"
        },
        "id": "ThZOuq-ivPPK",
        "outputId": "2c760b60-17c6-4bf4-cd69-2717d5861628"
      },
      "source": [
        "# Null 값 확인\n",
        "df.isnull().sum()"
      ],
      "execution_count": 5,
      "outputs": [
        {
          "output_type": "execute_result",
          "data": {
            "text/plain": [
              "0    0\n",
              "1    0\n",
              "2    0\n",
              "3    0\n",
              "4    0\n",
              "5    0\n",
              "6    0\n",
              "7    0\n",
              "8    0\n",
              "dtype: int64"
            ]
          },
          "metadata": {
            "tags": []
          },
          "execution_count": 5
        }
      ]
    },
    {
      "cell_type": "code",
      "metadata": {
        "id": "Fm93LS07vnlq"
      },
      "source": [
        "from sklearn.preprocessing import MinMaxScaler\n",
        "scaler = MinMaxScaler()\n",
        "pima_scaled = scaler.fit_transform(df.iloc[:,:-1].values)"
      ],
      "execution_count": 7,
      "outputs": []
    },
    {
      "cell_type": "markdown",
      "metadata": {
        "id": "H6UEvke_wy4_"
      },
      "source": [
        "### 학습/테스트 데이터 셋 분리"
      ]
    },
    {
      "cell_type": "code",
      "metadata": {
        "id": "GhxpF7aswY18"
      },
      "source": [
        "from sklearn.model_selection import train_test_split\n",
        "X_train, X_test, y_train, y_test = train_test_split(\n",
        "    pima_scaled, df.iloc[:,-1].values, stratify=df[8].values,\n",
        "    test_size=0.2, random_state=2021\n",
        ")"
      ],
      "execution_count": 8,
      "outputs": []
    },
    {
      "cell_type": "code",
      "metadata": {
        "colab": {
          "base_uri": "https://localhost:8080/"
        },
        "id": "JFUJcvyZx5ct",
        "outputId": "ebee9785-0363-4fe2-9d5f-1ff7bd1f047d"
      },
      "source": [
        "X_train.shape, X_test.shape, y_train.shape, y_test.shape"
      ],
      "execution_count": 9,
      "outputs": [
        {
          "output_type": "execute_result",
          "data": {
            "text/plain": [
              "((614, 8), (154, 8), (614,), (154,))"
            ]
          },
          "metadata": {
            "tags": []
          },
          "execution_count": 9
        }
      ]
    },
    {
      "cell_type": "markdown",
      "metadata": {
        "id": "wKTgzelUyLv1"
      },
      "source": [
        "### 신경망 모델 정의/설정/학습/평가"
      ]
    },
    {
      "cell_type": "code",
      "metadata": {
        "colab": {
          "base_uri": "https://localhost:8080/",
          "height": 35
        },
        "id": "C_puk1A-yBFi",
        "outputId": "4f3141b6-5c9b-44bc-f99c-4104a089311a"
      },
      "source": [
        "import tensorflow as tf\n",
        "tf.__version__"
      ],
      "execution_count": 10,
      "outputs": [
        {
          "output_type": "execute_result",
          "data": {
            "application/vnd.google.colaboratory.intrinsic+json": {
              "type": "string"
            },
            "text/plain": [
              "'2.5.0'"
            ]
          },
          "metadata": {
            "tags": []
          },
          "execution_count": 10
        }
      ]
    },
    {
      "cell_type": "code",
      "metadata": {
        "id": "W60SCOPlytvA"
      },
      "source": [
        "from tensorflow.keras.models import Sequential\n",
        "from tensorflow.keras.layers import Dense"
      ],
      "execution_count": 11,
      "outputs": []
    },
    {
      "cell_type": "code",
      "metadata": {
        "colab": {
          "base_uri": "https://localhost:8080/"
        },
        "id": "J8zYGiS7zWXh",
        "outputId": "4701e7c9-92e2-446e-c209-d7cd090c5043"
      },
      "source": [
        "# 모델 정의\n",
        "model = Sequential()\n",
        "model.add(Dense(12, input_dim=8, activation='relu'))    # 은닉층1, 입력과 연결된 층\n",
        "model.add(Dense(8, activation='relu'))                  # 은닉층2\n",
        "model.add(Dense(1, activation='sigmoid'))               # 출력층 - 이진분류\n",
        "model.summary()"
      ],
      "execution_count": 12,
      "outputs": [
        {
          "output_type": "stream",
          "text": [
            "Model: \"sequential\"\n",
            "_________________________________________________________________\n",
            "Layer (type)                 Output Shape              Param #   \n",
            "=================================================================\n",
            "dense (Dense)                (None, 12)                108       \n",
            "_________________________________________________________________\n",
            "dense_1 (Dense)              (None, 8)                 104       \n",
            "_________________________________________________________________\n",
            "dense_2 (Dense)              (None, 1)                 9         \n",
            "=================================================================\n",
            "Total params: 221\n",
            "Trainable params: 221\n",
            "Non-trainable params: 0\n",
            "_________________________________________________________________\n"
          ],
          "name": "stdout"
        }
      ]
    },
    {
      "cell_type": "code",
      "metadata": {
        "id": "BJaxl8hO6OhA"
      },
      "source": [
        "# 모델 설정\n",
        "model.compile(\n",
        "    optimizer='adam',\n",
        "    loss='binary_crossentropy',     # 이진 분류\n",
        "    metrics=['accuracy']\n",
        ")"
      ],
      "execution_count": 13,
      "outputs": []
    },
    {
      "cell_type": "code",
      "metadata": {
        "colab": {
          "base_uri": "https://localhost:8080/"
        },
        "id": "qr91bN7h8OOz",
        "outputId": "5713a86a-3fc6-451d-a705-45bb0e017491"
      },
      "source": [
        "# 모델 학습\n",
        "history = model.fit(\n",
        "    X_train, y_train, validation_split=0.2,\n",
        "    epochs=200, batch_size=50, verbose=2\n",
        ")"
      ],
      "execution_count": 14,
      "outputs": [
        {
          "output_type": "stream",
          "text": [
            "Epoch 1/200\n",
            "10/10 - 1s - loss: 0.7015 - accuracy: 0.3564 - val_loss: 0.7000 - val_accuracy: 0.3821\n",
            "Epoch 2/200\n",
            "10/10 - 0s - loss: 0.6916 - accuracy: 0.5275 - val_loss: 0.6928 - val_accuracy: 0.5285\n",
            "Epoch 3/200\n",
            "10/10 - 0s - loss: 0.6839 - accuracy: 0.6741 - val_loss: 0.6857 - val_accuracy: 0.6341\n",
            "Epoch 4/200\n",
            "10/10 - 0s - loss: 0.6775 - accuracy: 0.6578 - val_loss: 0.6802 - val_accuracy: 0.6341\n",
            "Epoch 5/200\n",
            "10/10 - 0s - loss: 0.6714 - accuracy: 0.6599 - val_loss: 0.6755 - val_accuracy: 0.6260\n",
            "Epoch 6/200\n",
            "10/10 - 0s - loss: 0.6658 - accuracy: 0.6619 - val_loss: 0.6712 - val_accuracy: 0.6179\n",
            "Epoch 7/200\n",
            "10/10 - 0s - loss: 0.6598 - accuracy: 0.6640 - val_loss: 0.6677 - val_accuracy: 0.6179\n",
            "Epoch 8/200\n",
            "10/10 - 0s - loss: 0.6548 - accuracy: 0.6599 - val_loss: 0.6641 - val_accuracy: 0.6179\n",
            "Epoch 9/200\n",
            "10/10 - 0s - loss: 0.6498 - accuracy: 0.6578 - val_loss: 0.6606 - val_accuracy: 0.6179\n",
            "Epoch 10/200\n",
            "10/10 - 0s - loss: 0.6455 - accuracy: 0.6578 - val_loss: 0.6580 - val_accuracy: 0.6260\n",
            "Epoch 11/200\n",
            "10/10 - 0s - loss: 0.6418 - accuracy: 0.6578 - val_loss: 0.6558 - val_accuracy: 0.6260\n",
            "Epoch 12/200\n",
            "10/10 - 0s - loss: 0.6392 - accuracy: 0.6578 - val_loss: 0.6538 - val_accuracy: 0.6260\n",
            "Epoch 13/200\n",
            "10/10 - 0s - loss: 0.6355 - accuracy: 0.6578 - val_loss: 0.6519 - val_accuracy: 0.6179\n",
            "Epoch 14/200\n",
            "10/10 - 0s - loss: 0.6325 - accuracy: 0.6578 - val_loss: 0.6499 - val_accuracy: 0.6179\n",
            "Epoch 15/200\n",
            "10/10 - 0s - loss: 0.6300 - accuracy: 0.6578 - val_loss: 0.6482 - val_accuracy: 0.6179\n",
            "Epoch 16/200\n",
            "10/10 - 0s - loss: 0.6265 - accuracy: 0.6619 - val_loss: 0.6460 - val_accuracy: 0.6179\n",
            "Epoch 17/200\n",
            "10/10 - 0s - loss: 0.6240 - accuracy: 0.6680 - val_loss: 0.6436 - val_accuracy: 0.6260\n",
            "Epoch 18/200\n",
            "10/10 - 0s - loss: 0.6218 - accuracy: 0.6680 - val_loss: 0.6426 - val_accuracy: 0.6179\n",
            "Epoch 19/200\n",
            "10/10 - 0s - loss: 0.6186 - accuracy: 0.6680 - val_loss: 0.6402 - val_accuracy: 0.6260\n",
            "Epoch 20/200\n",
            "10/10 - 0s - loss: 0.6159 - accuracy: 0.6701 - val_loss: 0.6380 - val_accuracy: 0.6260\n",
            "Epoch 21/200\n",
            "10/10 - 0s - loss: 0.6135 - accuracy: 0.6721 - val_loss: 0.6359 - val_accuracy: 0.6341\n",
            "Epoch 22/200\n",
            "10/10 - 0s - loss: 0.6113 - accuracy: 0.6762 - val_loss: 0.6331 - val_accuracy: 0.6341\n",
            "Epoch 23/200\n",
            "10/10 - 0s - loss: 0.6083 - accuracy: 0.6823 - val_loss: 0.6313 - val_accuracy: 0.6341\n",
            "Epoch 24/200\n",
            "10/10 - 0s - loss: 0.6060 - accuracy: 0.6864 - val_loss: 0.6299 - val_accuracy: 0.6341\n",
            "Epoch 25/200\n",
            "10/10 - 0s - loss: 0.6036 - accuracy: 0.6884 - val_loss: 0.6282 - val_accuracy: 0.6504\n",
            "Epoch 26/200\n",
            "10/10 - 0s - loss: 0.6008 - accuracy: 0.6823 - val_loss: 0.6243 - val_accuracy: 0.6829\n",
            "Epoch 27/200\n",
            "10/10 - 0s - loss: 0.5983 - accuracy: 0.6925 - val_loss: 0.6221 - val_accuracy: 0.6992\n",
            "Epoch 28/200\n",
            "10/10 - 0s - loss: 0.5957 - accuracy: 0.6925 - val_loss: 0.6208 - val_accuracy: 0.6829\n",
            "Epoch 29/200\n",
            "10/10 - 0s - loss: 0.5934 - accuracy: 0.6925 - val_loss: 0.6192 - val_accuracy: 0.6829\n",
            "Epoch 30/200\n",
            "10/10 - 0s - loss: 0.5918 - accuracy: 0.6925 - val_loss: 0.6134 - val_accuracy: 0.7073\n",
            "Epoch 31/200\n",
            "10/10 - 0s - loss: 0.5877 - accuracy: 0.7026 - val_loss: 0.6123 - val_accuracy: 0.7073\n",
            "Epoch 32/200\n",
            "10/10 - 0s - loss: 0.5850 - accuracy: 0.7006 - val_loss: 0.6109 - val_accuracy: 0.7073\n",
            "Epoch 33/200\n",
            "10/10 - 0s - loss: 0.5824 - accuracy: 0.7006 - val_loss: 0.6080 - val_accuracy: 0.7073\n",
            "Epoch 34/200\n",
            "10/10 - 0s - loss: 0.5798 - accuracy: 0.7108 - val_loss: 0.6033 - val_accuracy: 0.7073\n",
            "Epoch 35/200\n",
            "10/10 - 0s - loss: 0.5771 - accuracy: 0.7128 - val_loss: 0.6008 - val_accuracy: 0.7073\n",
            "Epoch 36/200\n",
            "10/10 - 0s - loss: 0.5755 - accuracy: 0.7067 - val_loss: 0.6004 - val_accuracy: 0.7073\n",
            "Epoch 37/200\n",
            "10/10 - 0s - loss: 0.5722 - accuracy: 0.7149 - val_loss: 0.5953 - val_accuracy: 0.6992\n",
            "Epoch 38/200\n",
            "10/10 - 0s - loss: 0.5704 - accuracy: 0.7128 - val_loss: 0.5907 - val_accuracy: 0.6829\n",
            "Epoch 39/200\n",
            "10/10 - 0s - loss: 0.5658 - accuracy: 0.7149 - val_loss: 0.5890 - val_accuracy: 0.6829\n",
            "Epoch 40/200\n",
            "10/10 - 0s - loss: 0.5632 - accuracy: 0.7169 - val_loss: 0.5876 - val_accuracy: 0.6992\n",
            "Epoch 41/200\n",
            "10/10 - 0s - loss: 0.5607 - accuracy: 0.7210 - val_loss: 0.5835 - val_accuracy: 0.6829\n",
            "Epoch 42/200\n",
            "10/10 - 0s - loss: 0.5583 - accuracy: 0.7189 - val_loss: 0.5798 - val_accuracy: 0.6829\n",
            "Epoch 43/200\n",
            "10/10 - 0s - loss: 0.5557 - accuracy: 0.7251 - val_loss: 0.5763 - val_accuracy: 0.6829\n",
            "Epoch 44/200\n",
            "10/10 - 0s - loss: 0.5530 - accuracy: 0.7332 - val_loss: 0.5753 - val_accuracy: 0.6911\n",
            "Epoch 45/200\n",
            "10/10 - 0s - loss: 0.5510 - accuracy: 0.7332 - val_loss: 0.5710 - val_accuracy: 0.6911\n",
            "Epoch 46/200\n",
            "10/10 - 0s - loss: 0.5482 - accuracy: 0.7373 - val_loss: 0.5711 - val_accuracy: 0.6992\n",
            "Epoch 47/200\n",
            "10/10 - 0s - loss: 0.5458 - accuracy: 0.7434 - val_loss: 0.5665 - val_accuracy: 0.7073\n",
            "Epoch 48/200\n",
            "10/10 - 0s - loss: 0.5436 - accuracy: 0.7393 - val_loss: 0.5649 - val_accuracy: 0.7154\n",
            "Epoch 49/200\n",
            "10/10 - 0s - loss: 0.5411 - accuracy: 0.7393 - val_loss: 0.5630 - val_accuracy: 0.7073\n",
            "Epoch 50/200\n",
            "10/10 - 0s - loss: 0.5395 - accuracy: 0.7373 - val_loss: 0.5613 - val_accuracy: 0.7073\n",
            "Epoch 51/200\n",
            "10/10 - 0s - loss: 0.5376 - accuracy: 0.7475 - val_loss: 0.5571 - val_accuracy: 0.7154\n",
            "Epoch 52/200\n",
            "10/10 - 0s - loss: 0.5364 - accuracy: 0.7413 - val_loss: 0.5574 - val_accuracy: 0.7073\n",
            "Epoch 53/200\n",
            "10/10 - 0s - loss: 0.5333 - accuracy: 0.7393 - val_loss: 0.5530 - val_accuracy: 0.7073\n",
            "Epoch 54/200\n",
            "10/10 - 0s - loss: 0.5313 - accuracy: 0.7434 - val_loss: 0.5509 - val_accuracy: 0.7073\n",
            "Epoch 55/200\n",
            "10/10 - 0s - loss: 0.5297 - accuracy: 0.7413 - val_loss: 0.5494 - val_accuracy: 0.7317\n",
            "Epoch 56/200\n",
            "10/10 - 0s - loss: 0.5291 - accuracy: 0.7352 - val_loss: 0.5506 - val_accuracy: 0.7073\n",
            "Epoch 57/200\n",
            "10/10 - 0s - loss: 0.5269 - accuracy: 0.7475 - val_loss: 0.5449 - val_accuracy: 0.7236\n",
            "Epoch 58/200\n",
            "10/10 - 0s - loss: 0.5236 - accuracy: 0.7434 - val_loss: 0.5441 - val_accuracy: 0.7317\n",
            "Epoch 59/200\n",
            "10/10 - 0s - loss: 0.5228 - accuracy: 0.7393 - val_loss: 0.5442 - val_accuracy: 0.7236\n",
            "Epoch 60/200\n",
            "10/10 - 0s - loss: 0.5193 - accuracy: 0.7454 - val_loss: 0.5398 - val_accuracy: 0.7398\n",
            "Epoch 61/200\n",
            "10/10 - 0s - loss: 0.5180 - accuracy: 0.7413 - val_loss: 0.5374 - val_accuracy: 0.7480\n",
            "Epoch 62/200\n",
            "10/10 - 0s - loss: 0.5159 - accuracy: 0.7454 - val_loss: 0.5361 - val_accuracy: 0.7480\n",
            "Epoch 63/200\n",
            "10/10 - 0s - loss: 0.5150 - accuracy: 0.7495 - val_loss: 0.5371 - val_accuracy: 0.7154\n",
            "Epoch 64/200\n",
            "10/10 - 0s - loss: 0.5140 - accuracy: 0.7413 - val_loss: 0.5320 - val_accuracy: 0.7642\n",
            "Epoch 65/200\n",
            "10/10 - 0s - loss: 0.5112 - accuracy: 0.7576 - val_loss: 0.5321 - val_accuracy: 0.7642\n",
            "Epoch 66/200\n",
            "10/10 - 0s - loss: 0.5092 - accuracy: 0.7475 - val_loss: 0.5300 - val_accuracy: 0.7642\n",
            "Epoch 67/200\n",
            "10/10 - 0s - loss: 0.5082 - accuracy: 0.7515 - val_loss: 0.5276 - val_accuracy: 0.7805\n",
            "Epoch 68/200\n",
            "10/10 - 0s - loss: 0.5066 - accuracy: 0.7556 - val_loss: 0.5252 - val_accuracy: 0.7805\n",
            "Epoch 69/200\n",
            "10/10 - 0s - loss: 0.5044 - accuracy: 0.7556 - val_loss: 0.5254 - val_accuracy: 0.7724\n",
            "Epoch 70/200\n",
            "10/10 - 0s - loss: 0.5043 - accuracy: 0.7556 - val_loss: 0.5264 - val_accuracy: 0.7398\n",
            "Epoch 71/200\n",
            "10/10 - 0s - loss: 0.5021 - accuracy: 0.7617 - val_loss: 0.5204 - val_accuracy: 0.7886\n",
            "Epoch 72/200\n",
            "10/10 - 0s - loss: 0.5011 - accuracy: 0.7637 - val_loss: 0.5188 - val_accuracy: 0.7886\n",
            "Epoch 73/200\n",
            "10/10 - 0s - loss: 0.4996 - accuracy: 0.7678 - val_loss: 0.5196 - val_accuracy: 0.7724\n",
            "Epoch 74/200\n",
            "10/10 - 0s - loss: 0.4979 - accuracy: 0.7658 - val_loss: 0.5207 - val_accuracy: 0.7480\n",
            "Epoch 75/200\n",
            "10/10 - 0s - loss: 0.4967 - accuracy: 0.7637 - val_loss: 0.5159 - val_accuracy: 0.7805\n",
            "Epoch 76/200\n",
            "10/10 - 0s - loss: 0.4957 - accuracy: 0.7637 - val_loss: 0.5147 - val_accuracy: 0.7805\n",
            "Epoch 77/200\n",
            "10/10 - 0s - loss: 0.4940 - accuracy: 0.7637 - val_loss: 0.5121 - val_accuracy: 0.7805\n",
            "Epoch 78/200\n",
            "10/10 - 0s - loss: 0.4931 - accuracy: 0.7699 - val_loss: 0.5114 - val_accuracy: 0.7805\n",
            "Epoch 79/200\n",
            "10/10 - 0s - loss: 0.4923 - accuracy: 0.7637 - val_loss: 0.5118 - val_accuracy: 0.7724\n",
            "Epoch 80/200\n",
            "10/10 - 0s - loss: 0.4908 - accuracy: 0.7699 - val_loss: 0.5076 - val_accuracy: 0.7886\n",
            "Epoch 81/200\n",
            "10/10 - 0s - loss: 0.4895 - accuracy: 0.7760 - val_loss: 0.5081 - val_accuracy: 0.7805\n",
            "Epoch 82/200\n",
            "10/10 - 0s - loss: 0.4890 - accuracy: 0.7699 - val_loss: 0.5070 - val_accuracy: 0.7724\n",
            "Epoch 83/200\n",
            "10/10 - 0s - loss: 0.4899 - accuracy: 0.7760 - val_loss: 0.5048 - val_accuracy: 0.7805\n",
            "Epoch 84/200\n",
            "10/10 - 0s - loss: 0.4872 - accuracy: 0.7699 - val_loss: 0.5074 - val_accuracy: 0.7642\n",
            "Epoch 85/200\n",
            "10/10 - 0s - loss: 0.4853 - accuracy: 0.7699 - val_loss: 0.5031 - val_accuracy: 0.7724\n",
            "Epoch 86/200\n",
            "10/10 - 0s - loss: 0.4836 - accuracy: 0.7800 - val_loss: 0.5008 - val_accuracy: 0.7805\n",
            "Epoch 87/200\n",
            "10/10 - 0s - loss: 0.4836 - accuracy: 0.7760 - val_loss: 0.5009 - val_accuracy: 0.7724\n",
            "Epoch 88/200\n",
            "10/10 - 0s - loss: 0.4828 - accuracy: 0.7760 - val_loss: 0.5010 - val_accuracy: 0.7642\n",
            "Epoch 89/200\n",
            "10/10 - 0s - loss: 0.4807 - accuracy: 0.7760 - val_loss: 0.4975 - val_accuracy: 0.7805\n",
            "Epoch 90/200\n",
            "10/10 - 0s - loss: 0.4799 - accuracy: 0.7821 - val_loss: 0.4979 - val_accuracy: 0.7642\n",
            "Epoch 91/200\n",
            "10/10 - 0s - loss: 0.4791 - accuracy: 0.7780 - val_loss: 0.4967 - val_accuracy: 0.7724\n",
            "Epoch 92/200\n",
            "10/10 - 0s - loss: 0.4777 - accuracy: 0.7739 - val_loss: 0.4969 - val_accuracy: 0.7642\n",
            "Epoch 93/200\n",
            "10/10 - 0s - loss: 0.4770 - accuracy: 0.7780 - val_loss: 0.4961 - val_accuracy: 0.7642\n",
            "Epoch 94/200\n",
            "10/10 - 0s - loss: 0.4766 - accuracy: 0.7780 - val_loss: 0.4921 - val_accuracy: 0.7886\n",
            "Epoch 95/200\n",
            "10/10 - 0s - loss: 0.4758 - accuracy: 0.7841 - val_loss: 0.4942 - val_accuracy: 0.7642\n",
            "Epoch 96/200\n",
            "10/10 - 0s - loss: 0.4743 - accuracy: 0.7780 - val_loss: 0.4923 - val_accuracy: 0.7642\n",
            "Epoch 97/200\n",
            "10/10 - 0s - loss: 0.4737 - accuracy: 0.7862 - val_loss: 0.4900 - val_accuracy: 0.7805\n",
            "Epoch 98/200\n",
            "10/10 - 0s - loss: 0.4738 - accuracy: 0.7780 - val_loss: 0.4915 - val_accuracy: 0.7642\n",
            "Epoch 99/200\n",
            "10/10 - 0s - loss: 0.4732 - accuracy: 0.7821 - val_loss: 0.4896 - val_accuracy: 0.7642\n",
            "Epoch 100/200\n",
            "10/10 - 0s - loss: 0.4716 - accuracy: 0.7841 - val_loss: 0.4894 - val_accuracy: 0.7642\n",
            "Epoch 101/200\n",
            "10/10 - 0s - loss: 0.4703 - accuracy: 0.7841 - val_loss: 0.4873 - val_accuracy: 0.7967\n",
            "Epoch 102/200\n",
            "10/10 - 0s - loss: 0.4706 - accuracy: 0.7923 - val_loss: 0.4871 - val_accuracy: 0.7967\n",
            "Epoch 103/200\n",
            "10/10 - 0s - loss: 0.4724 - accuracy: 0.7821 - val_loss: 0.4892 - val_accuracy: 0.7642\n",
            "Epoch 104/200\n",
            "10/10 - 0s - loss: 0.4683 - accuracy: 0.7821 - val_loss: 0.4849 - val_accuracy: 0.7967\n",
            "Epoch 105/200\n",
            "10/10 - 0s - loss: 0.4681 - accuracy: 0.7943 - val_loss: 0.4850 - val_accuracy: 0.7805\n",
            "Epoch 106/200\n",
            "10/10 - 0s - loss: 0.4690 - accuracy: 0.7862 - val_loss: 0.4857 - val_accuracy: 0.7805\n",
            "Epoch 107/200\n",
            "10/10 - 0s - loss: 0.4665 - accuracy: 0.7902 - val_loss: 0.4826 - val_accuracy: 0.7967\n",
            "Epoch 108/200\n",
            "10/10 - 0s - loss: 0.4667 - accuracy: 0.7923 - val_loss: 0.4828 - val_accuracy: 0.7967\n",
            "Epoch 109/200\n",
            "10/10 - 0s - loss: 0.4659 - accuracy: 0.7882 - val_loss: 0.4862 - val_accuracy: 0.7805\n",
            "Epoch 110/200\n",
            "10/10 - 0s - loss: 0.4648 - accuracy: 0.7923 - val_loss: 0.4821 - val_accuracy: 0.7886\n",
            "Epoch 111/200\n",
            "10/10 - 0s - loss: 0.4643 - accuracy: 0.7902 - val_loss: 0.4808 - val_accuracy: 0.7967\n",
            "Epoch 112/200\n",
            "10/10 - 0s - loss: 0.4639 - accuracy: 0.7862 - val_loss: 0.4798 - val_accuracy: 0.7967\n",
            "Epoch 113/200\n",
            "10/10 - 0s - loss: 0.4636 - accuracy: 0.7862 - val_loss: 0.4812 - val_accuracy: 0.7886\n",
            "Epoch 114/200\n",
            "10/10 - 0s - loss: 0.4636 - accuracy: 0.7923 - val_loss: 0.4812 - val_accuracy: 0.7805\n",
            "Epoch 115/200\n",
            "10/10 - 0s - loss: 0.4618 - accuracy: 0.7923 - val_loss: 0.4784 - val_accuracy: 0.7967\n",
            "Epoch 116/200\n",
            "10/10 - 0s - loss: 0.4621 - accuracy: 0.7862 - val_loss: 0.4776 - val_accuracy: 0.8049\n",
            "Epoch 117/200\n",
            "10/10 - 0s - loss: 0.4625 - accuracy: 0.7902 - val_loss: 0.4774 - val_accuracy: 0.7886\n",
            "Epoch 118/200\n",
            "10/10 - 0s - loss: 0.4608 - accuracy: 0.7902 - val_loss: 0.4770 - val_accuracy: 0.7967\n",
            "Epoch 119/200\n",
            "10/10 - 0s - loss: 0.4627 - accuracy: 0.7923 - val_loss: 0.4785 - val_accuracy: 0.7967\n",
            "Epoch 120/200\n",
            "10/10 - 0s - loss: 0.4613 - accuracy: 0.7821 - val_loss: 0.4763 - val_accuracy: 0.7967\n",
            "Epoch 121/200\n",
            "10/10 - 0s - loss: 0.4607 - accuracy: 0.7821 - val_loss: 0.4759 - val_accuracy: 0.7967\n",
            "Epoch 122/200\n",
            "10/10 - 0s - loss: 0.4604 - accuracy: 0.7902 - val_loss: 0.4759 - val_accuracy: 0.7967\n",
            "Epoch 123/200\n",
            "10/10 - 0s - loss: 0.4593 - accuracy: 0.7902 - val_loss: 0.4763 - val_accuracy: 0.7967\n",
            "Epoch 124/200\n",
            "10/10 - 0s - loss: 0.4583 - accuracy: 0.7902 - val_loss: 0.4736 - val_accuracy: 0.8130\n",
            "Epoch 125/200\n",
            "10/10 - 0s - loss: 0.4584 - accuracy: 0.7882 - val_loss: 0.4724 - val_accuracy: 0.8130\n",
            "Epoch 126/200\n",
            "10/10 - 0s - loss: 0.4577 - accuracy: 0.7862 - val_loss: 0.4720 - val_accuracy: 0.8130\n",
            "Epoch 127/200\n",
            "10/10 - 0s - loss: 0.4572 - accuracy: 0.7882 - val_loss: 0.4721 - val_accuracy: 0.8130\n",
            "Epoch 128/200\n",
            "10/10 - 0s - loss: 0.4575 - accuracy: 0.7841 - val_loss: 0.4726 - val_accuracy: 0.8049\n",
            "Epoch 129/200\n",
            "10/10 - 0s - loss: 0.4570 - accuracy: 0.7902 - val_loss: 0.4708 - val_accuracy: 0.8130\n",
            "Epoch 130/200\n",
            "10/10 - 0s - loss: 0.4567 - accuracy: 0.7862 - val_loss: 0.4715 - val_accuracy: 0.8130\n",
            "Epoch 131/200\n",
            "10/10 - 0s - loss: 0.4566 - accuracy: 0.7882 - val_loss: 0.4708 - val_accuracy: 0.7967\n",
            "Epoch 132/200\n",
            "10/10 - 0s - loss: 0.4559 - accuracy: 0.7862 - val_loss: 0.4689 - val_accuracy: 0.8049\n",
            "Epoch 133/200\n",
            "10/10 - 0s - loss: 0.4571 - accuracy: 0.7800 - val_loss: 0.4694 - val_accuracy: 0.8049\n",
            "Epoch 134/200\n",
            "10/10 - 0s - loss: 0.4559 - accuracy: 0.7882 - val_loss: 0.4749 - val_accuracy: 0.7886\n",
            "Epoch 135/200\n",
            "10/10 - 0s - loss: 0.4562 - accuracy: 0.7943 - val_loss: 0.4695 - val_accuracy: 0.8130\n",
            "Epoch 136/200\n",
            "10/10 - 0s - loss: 0.4555 - accuracy: 0.7841 - val_loss: 0.4682 - val_accuracy: 0.8049\n",
            "Epoch 137/200\n",
            "10/10 - 0s - loss: 0.4581 - accuracy: 0.7800 - val_loss: 0.4685 - val_accuracy: 0.8049\n",
            "Epoch 138/200\n",
            "10/10 - 0s - loss: 0.4547 - accuracy: 0.7984 - val_loss: 0.4721 - val_accuracy: 0.7886\n",
            "Epoch 139/200\n",
            "10/10 - 0s - loss: 0.4553 - accuracy: 0.7902 - val_loss: 0.4672 - val_accuracy: 0.8049\n",
            "Epoch 140/200\n",
            "10/10 - 0s - loss: 0.4553 - accuracy: 0.7841 - val_loss: 0.4672 - val_accuracy: 0.8049\n",
            "Epoch 141/200\n",
            "10/10 - 0s - loss: 0.4559 - accuracy: 0.7923 - val_loss: 0.4735 - val_accuracy: 0.7805\n",
            "Epoch 142/200\n",
            "10/10 - 0s - loss: 0.4536 - accuracy: 0.7902 - val_loss: 0.4661 - val_accuracy: 0.8049\n",
            "Epoch 143/200\n",
            "10/10 - 0s - loss: 0.4545 - accuracy: 0.7862 - val_loss: 0.4658 - val_accuracy: 0.8049\n",
            "Epoch 144/200\n",
            "10/10 - 0s - loss: 0.4545 - accuracy: 0.7923 - val_loss: 0.4659 - val_accuracy: 0.7967\n",
            "Epoch 145/200\n",
            "10/10 - 0s - loss: 0.4527 - accuracy: 0.7902 - val_loss: 0.4667 - val_accuracy: 0.7967\n",
            "Epoch 146/200\n",
            "10/10 - 0s - loss: 0.4525 - accuracy: 0.7923 - val_loss: 0.4662 - val_accuracy: 0.7967\n",
            "Epoch 147/200\n",
            "10/10 - 0s - loss: 0.4540 - accuracy: 0.7923 - val_loss: 0.4674 - val_accuracy: 0.7967\n",
            "Epoch 148/200\n",
            "10/10 - 0s - loss: 0.4534 - accuracy: 0.7841 - val_loss: 0.4662 - val_accuracy: 0.7967\n",
            "Epoch 149/200\n",
            "10/10 - 0s - loss: 0.4532 - accuracy: 0.7923 - val_loss: 0.4670 - val_accuracy: 0.7967\n",
            "Epoch 150/200\n",
            "10/10 - 0s - loss: 0.4521 - accuracy: 0.7902 - val_loss: 0.4652 - val_accuracy: 0.7967\n",
            "Epoch 151/200\n",
            "10/10 - 0s - loss: 0.4518 - accuracy: 0.7943 - val_loss: 0.4659 - val_accuracy: 0.7967\n",
            "Epoch 152/200\n",
            "10/10 - 0s - loss: 0.4514 - accuracy: 0.7923 - val_loss: 0.4653 - val_accuracy: 0.7967\n",
            "Epoch 153/200\n",
            "10/10 - 0s - loss: 0.4514 - accuracy: 0.7923 - val_loss: 0.4651 - val_accuracy: 0.7967\n",
            "Epoch 154/200\n",
            "10/10 - 0s - loss: 0.4514 - accuracy: 0.7862 - val_loss: 0.4647 - val_accuracy: 0.7967\n",
            "Epoch 155/200\n",
            "10/10 - 0s - loss: 0.4509 - accuracy: 0.7902 - val_loss: 0.4652 - val_accuracy: 0.7967\n",
            "Epoch 156/200\n",
            "10/10 - 0s - loss: 0.4515 - accuracy: 0.7882 - val_loss: 0.4657 - val_accuracy: 0.7967\n",
            "Epoch 157/200\n",
            "10/10 - 0s - loss: 0.4520 - accuracy: 0.7882 - val_loss: 0.4644 - val_accuracy: 0.7967\n",
            "Epoch 158/200\n",
            "10/10 - 0s - loss: 0.4504 - accuracy: 0.7943 - val_loss: 0.4652 - val_accuracy: 0.7967\n",
            "Epoch 159/200\n",
            "10/10 - 0s - loss: 0.4508 - accuracy: 0.7923 - val_loss: 0.4645 - val_accuracy: 0.7967\n",
            "Epoch 160/200\n",
            "10/10 - 0s - loss: 0.4517 - accuracy: 0.7882 - val_loss: 0.4646 - val_accuracy: 0.7967\n",
            "Epoch 161/200\n",
            "10/10 - 0s - loss: 0.4504 - accuracy: 0.7902 - val_loss: 0.4647 - val_accuracy: 0.7967\n",
            "Epoch 162/200\n",
            "10/10 - 0s - loss: 0.4515 - accuracy: 0.7923 - val_loss: 0.4644 - val_accuracy: 0.7967\n",
            "Epoch 163/200\n",
            "10/10 - 0s - loss: 0.4503 - accuracy: 0.7923 - val_loss: 0.4634 - val_accuracy: 0.7967\n",
            "Epoch 164/200\n",
            "10/10 - 0s - loss: 0.4501 - accuracy: 0.7923 - val_loss: 0.4645 - val_accuracy: 0.7886\n",
            "Epoch 165/200\n",
            "10/10 - 0s - loss: 0.4508 - accuracy: 0.7882 - val_loss: 0.4640 - val_accuracy: 0.7967\n",
            "Epoch 166/200\n",
            "10/10 - 0s - loss: 0.4495 - accuracy: 0.7902 - val_loss: 0.4644 - val_accuracy: 0.7967\n",
            "Epoch 167/200\n",
            "10/10 - 0s - loss: 0.4494 - accuracy: 0.7902 - val_loss: 0.4643 - val_accuracy: 0.7886\n",
            "Epoch 168/200\n",
            "10/10 - 0s - loss: 0.4497 - accuracy: 0.7923 - val_loss: 0.4625 - val_accuracy: 0.7967\n",
            "Epoch 169/200\n",
            "10/10 - 0s - loss: 0.4523 - accuracy: 0.7882 - val_loss: 0.4621 - val_accuracy: 0.7967\n",
            "Epoch 170/200\n",
            "10/10 - 0s - loss: 0.4497 - accuracy: 0.7882 - val_loss: 0.4640 - val_accuracy: 0.8049\n",
            "Epoch 171/200\n",
            "10/10 - 0s - loss: 0.4491 - accuracy: 0.7923 - val_loss: 0.4631 - val_accuracy: 0.7967\n",
            "Epoch 172/200\n",
            "10/10 - 0s - loss: 0.4501 - accuracy: 0.7882 - val_loss: 0.4627 - val_accuracy: 0.7967\n",
            "Epoch 173/200\n",
            "10/10 - 0s - loss: 0.4484 - accuracy: 0.7902 - val_loss: 0.4635 - val_accuracy: 0.7886\n",
            "Epoch 174/200\n",
            "10/10 - 0s - loss: 0.4505 - accuracy: 0.7902 - val_loss: 0.4645 - val_accuracy: 0.8049\n",
            "Epoch 175/200\n",
            "10/10 - 0s - loss: 0.4486 - accuracy: 0.7882 - val_loss: 0.4625 - val_accuracy: 0.7967\n",
            "Epoch 176/200\n",
            "10/10 - 0s - loss: 0.4486 - accuracy: 0.7923 - val_loss: 0.4616 - val_accuracy: 0.7967\n",
            "Epoch 177/200\n",
            "10/10 - 0s - loss: 0.4481 - accuracy: 0.7923 - val_loss: 0.4624 - val_accuracy: 0.7886\n",
            "Epoch 178/200\n",
            "10/10 - 0s - loss: 0.4483 - accuracy: 0.7923 - val_loss: 0.4625 - val_accuracy: 0.7967\n",
            "Epoch 179/200\n",
            "10/10 - 0s - loss: 0.4482 - accuracy: 0.7882 - val_loss: 0.4622 - val_accuracy: 0.7967\n",
            "Epoch 180/200\n",
            "10/10 - 0s - loss: 0.4479 - accuracy: 0.7902 - val_loss: 0.4616 - val_accuracy: 0.7967\n",
            "Epoch 181/200\n",
            "10/10 - 0s - loss: 0.4487 - accuracy: 0.7862 - val_loss: 0.4622 - val_accuracy: 0.7886\n",
            "Epoch 182/200\n",
            "10/10 - 0s - loss: 0.4481 - accuracy: 0.7882 - val_loss: 0.4620 - val_accuracy: 0.7967\n",
            "Epoch 183/200\n",
            "10/10 - 0s - loss: 0.4478 - accuracy: 0.7882 - val_loss: 0.4607 - val_accuracy: 0.7967\n",
            "Epoch 184/200\n",
            "10/10 - 0s - loss: 0.4479 - accuracy: 0.7882 - val_loss: 0.4611 - val_accuracy: 0.7967\n",
            "Epoch 185/200\n",
            "10/10 - 0s - loss: 0.4477 - accuracy: 0.7923 - val_loss: 0.4627 - val_accuracy: 0.8049\n",
            "Epoch 186/200\n",
            "10/10 - 0s - loss: 0.4473 - accuracy: 0.7902 - val_loss: 0.4611 - val_accuracy: 0.7967\n",
            "Epoch 187/200\n",
            "10/10 - 0s - loss: 0.4498 - accuracy: 0.7800 - val_loss: 0.4612 - val_accuracy: 0.8049\n",
            "Epoch 188/200\n",
            "10/10 - 0s - loss: 0.4465 - accuracy: 0.7882 - val_loss: 0.4623 - val_accuracy: 0.8049\n",
            "Epoch 189/200\n",
            "10/10 - 0s - loss: 0.4480 - accuracy: 0.7862 - val_loss: 0.4605 - val_accuracy: 0.7886\n",
            "Epoch 190/200\n",
            "10/10 - 0s - loss: 0.4481 - accuracy: 0.7882 - val_loss: 0.4608 - val_accuracy: 0.7886\n",
            "Epoch 191/200\n",
            "10/10 - 0s - loss: 0.4476 - accuracy: 0.7923 - val_loss: 0.4618 - val_accuracy: 0.7967\n",
            "Epoch 192/200\n",
            "10/10 - 0s - loss: 0.4475 - accuracy: 0.7882 - val_loss: 0.4614 - val_accuracy: 0.7967\n",
            "Epoch 193/200\n",
            "10/10 - 0s - loss: 0.4476 - accuracy: 0.7902 - val_loss: 0.4606 - val_accuracy: 0.7886\n",
            "Epoch 194/200\n",
            "10/10 - 0s - loss: 0.4470 - accuracy: 0.7841 - val_loss: 0.4611 - val_accuracy: 0.7967\n",
            "Epoch 195/200\n",
            "10/10 - 0s - loss: 0.4467 - accuracy: 0.7862 - val_loss: 0.4616 - val_accuracy: 0.7967\n",
            "Epoch 196/200\n",
            "10/10 - 0s - loss: 0.4472 - accuracy: 0.7902 - val_loss: 0.4611 - val_accuracy: 0.7886\n",
            "Epoch 197/200\n",
            "10/10 - 0s - loss: 0.4492 - accuracy: 0.7862 - val_loss: 0.4598 - val_accuracy: 0.7967\n",
            "Epoch 198/200\n",
            "10/10 - 0s - loss: 0.4463 - accuracy: 0.7963 - val_loss: 0.4599 - val_accuracy: 0.7967\n",
            "Epoch 199/200\n",
            "10/10 - 0s - loss: 0.4464 - accuracy: 0.7943 - val_loss: 0.4598 - val_accuracy: 0.7967\n",
            "Epoch 200/200\n",
            "10/10 - 0s - loss: 0.4466 - accuracy: 0.7943 - val_loss: 0.4594 - val_accuracy: 0.7967\n"
          ],
          "name": "stdout"
        }
      ]
    },
    {
      "cell_type": "code",
      "metadata": {
        "colab": {
          "base_uri": "https://localhost:8080/"
        },
        "id": "-SatQuIm-OvM",
        "outputId": "62802334-5686-46c1-b0af-ec27c14e8923"
      },
      "source": [
        "# 모델 평가\n",
        "model.evaluate(X_test, y_test)"
      ],
      "execution_count": 15,
      "outputs": [
        {
          "output_type": "stream",
          "text": [
            "5/5 [==============================] - 0s 3ms/step - loss: 0.4581 - accuracy: 0.7792\n"
          ],
          "name": "stdout"
        },
        {
          "output_type": "execute_result",
          "data": {
            "text/plain": [
              "[0.4581398367881775, 0.7792207598686218]"
            ]
          },
          "metadata": {
            "tags": []
          },
          "execution_count": 15
        }
      ]
    },
    {
      "cell_type": "code",
      "metadata": {
        "colab": {
          "base_uri": "https://localhost:8080/"
        },
        "id": "bIcKSP3e-iNF",
        "outputId": "c0a3bf95-2402-44b4-bda8-4c3716d35140"
      },
      "source": [
        "accuracy = model.evaluate(X_test, y_test)[1]\n",
        "accuracy"
      ],
      "execution_count": 16,
      "outputs": [
        {
          "output_type": "stream",
          "text": [
            "5/5 [==============================] - 0s 2ms/step - loss: 0.4581 - accuracy: 0.7792\n"
          ],
          "name": "stdout"
        },
        {
          "output_type": "execute_result",
          "data": {
            "text/plain": [
              "0.7792207598686218"
            ]
          },
          "metadata": {
            "tags": []
          },
          "execution_count": 16
        }
      ]
    },
    {
      "cell_type": "markdown",
      "metadata": {
        "id": "v1x8u-zMAcLs"
      },
      "source": [
        "### 훈련과정 시각화"
      ]
    },
    {
      "cell_type": "code",
      "metadata": {
        "id": "g3jUE-Y6-wxi"
      },
      "source": [
        "import matplotlib.pyplot as plt\n",
        "%matplotlib inline"
      ],
      "execution_count": 17,
      "outputs": []
    },
    {
      "cell_type": "code",
      "metadata": {
        "id": "sTss-pipArNa"
      },
      "source": [
        "y_acc = history.history['accuracy']\n",
        "y_vloss = history.history['val_loss']\n",
        "x_len = np.arange(1, len(y_acc)+1)"
      ],
      "execution_count": 18,
      "outputs": []
    },
    {
      "cell_type": "code",
      "metadata": {
        "colab": {
          "base_uri": "https://localhost:8080/",
          "height": 483
        },
        "id": "d_RMJlF9BOnF",
        "outputId": "44880aee-c97b-4953-fd64-5aa9ec493b2d"
      },
      "source": [
        "plt.figure(figsize=(12,8))\n",
        "plt.plot(x_len, y_acc, 'bo-', label='accuracy', markersize=2)\n",
        "plt.plot(x_len, y_vloss, 'ro-', label='val_loss', markersize=2)\n",
        "plt.legend()\n",
        "plt.show()"
      ],
      "execution_count": 20,
      "outputs": [
        {
          "output_type": "display_data",
          "data": {
            "image/png": "[encoded data removed]",
            "text/plain": [
              "<Figure size 864x576 with 1 Axes>"
            ]
          },
          "metadata": {
            "tags": [],
            "needs_background": "light"
          }
        }
      ]
    },
    {
      "cell_type": "code",
      "metadata": {
        "id": "-0cHn8xFBpoQ"
      },
      "source": [
        "del model"
      ],
      "execution_count": 21,
      "outputs": []
    },
    {
      "cell_type": "code",
      "metadata": {
        "colab": {
          "base_uri": "https://localhost:8080/"
        },
        "id": "5wW6sIpnCRcw",
        "outputId": "f7d8b9cb-13fa-48ae-a807-4392a45c384e"
      },
      "source": [
        "model = Sequential()\n",
        "model.add(Dense(12, input_dim=8, activation='relu'))    # 은닉층1, 입력과 연결된 층\n",
        "model.add(Dense(8, activation='relu'))                  # 은닉층2\n",
        "model.add(Dense(1, activation='sigmoid'))               # 출력층 - 이진분류\n",
        "model.summary()"
      ],
      "execution_count": 22,
      "outputs": [
        {
          "output_type": "stream",
          "text": [
            "Model: \"sequential_1\"\n",
            "_________________________________________________________________\n",
            "Layer (type)                 Output Shape              Param #   \n",
            "=================================================================\n",
            "dense_3 (Dense)              (None, 12)                108       \n",
            "_________________________________________________________________\n",
            "dense_4 (Dense)              (None, 8)                 104       \n",
            "_________________________________________________________________\n",
            "dense_5 (Dense)              (None, 1)                 9         \n",
            "=================================================================\n",
            "Total params: 221\n",
            "Trainable params: 221\n",
            "Non-trainable params: 0\n",
            "_________________________________________________________________\n"
          ],
          "name": "stdout"
        }
      ]
    },
    {
      "cell_type": "code",
      "metadata": {
        "id": "tkzdSoz1CWZt"
      },
      "source": [
        "model.compile(\n",
        "    optimizer='adam',\n",
        "    loss='binary_crossentropy',     # 이진 분류\n",
        "    metrics=['accuracy']\n",
        ")"
      ],
      "execution_count": 23,
      "outputs": []
    },
    {
      "cell_type": "code",
      "metadata": {
        "id": "jwndVMzYCZ4G"
      },
      "source": [
        "history = model.fit(\n",
        "    X_train, y_train, validation_split=0.2,\n",
        "    epochs=400, batch_size=50, verbose=0\n",
        ")"
      ],
      "execution_count": 24,
      "outputs": []
    },
    {
      "cell_type": "code",
      "metadata": {
        "colab": {
          "base_uri": "https://localhost:8080/"
        },
        "id": "B8EGSmIECh_q",
        "outputId": "a556b68f-ed61-4a71-a1f7-466da197c897"
      },
      "source": [
        "accuracy = model.evaluate(X_test, y_test)[1]\n",
        "accuracy"
      ],
      "execution_count": 25,
      "outputs": [
        {
          "output_type": "stream",
          "text": [
            "5/5 [==============================] - 0s 3ms/step - loss: 0.4890 - accuracy: 0.7727\n"
          ],
          "name": "stdout"
        },
        {
          "output_type": "execute_result",
          "data": {
            "text/plain": [
              "0.7727272510528564"
            ]
          },
          "metadata": {
            "tags": []
          },
          "execution_count": 25
        }
      ]
    },
    {
      "cell_type": "code",
      "metadata": {
        "id": "of5ZWm53CreK"
      },
      "source": [
        "y_acc = history.history['accuracy']\n",
        "y_vloss = history.history['val_loss']\n",
        "x_len = np.arange(1, len(y_acc)+1)"
      ],
      "execution_count": 26,
      "outputs": []
    },
    {
      "cell_type": "code",
      "metadata": {
        "colab": {
          "base_uri": "https://localhost:8080/",
          "height": 483
        },
        "id": "Al7mv7UgCyUs",
        "outputId": "7e0a1d4d-1d42-4011-b2ad-e3eb95c61292"
      },
      "source": [
        "plt.figure(figsize=(12,8))\n",
        "plt.plot(x_len, y_acc, 'bo-', label='accuracy', markersize=2)\n",
        "plt.plot(x_len, y_vloss, 'ro-', label='val_loss', markersize=2)\n",
        "plt.legend()\n",
        "plt.show()"
      ],
      "execution_count": 27,
      "outputs": [
        {
          "output_type": "display_data",
          "data": {
            "image/png": "[encoded data removed]",
            "text/plain": [
              "<Figure size 864x576 with 1 Axes>"
            ]
          },
          "metadata": {
            "tags": [],
            "needs_background": "light"
          }
        }
      ]
    },
    {
      "cell_type": "code",
      "metadata": {
        "id": "e3DSegaBC2Ou"
      },
      "source": [
        ""
      ],
      "execution_count": null,
      "outputs": []
    }
  ]
}