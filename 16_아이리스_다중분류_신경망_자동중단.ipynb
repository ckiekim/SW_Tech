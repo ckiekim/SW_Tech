{
  "nbformat": 4,
  "nbformat_minor": 0,
  "metadata": {
    "colab": {
      "name": "16_아이리스_다중분류_신경망_자동중단.ipynb",
      "provenance": [],
      "collapsed_sections": []
    },
    "kernelspec": {
      "name": "python3",
      "display_name": "Python 3"
    },
    "language_info": {
      "name": "python"
    }
  },
  "cells": [
    {
      "cell_type": "markdown",
      "metadata": {
        "id": "-pmbKVesK4OU"
      },
      "source": [
        "# 다중 분류 - Iris 품종 예측 - 자동중단"
      ]
    },
    {
      "cell_type": "code",
      "metadata": {
        "id": "nSPCdmbOKxXY"
      },
      "source": [
        "import numpy as np\n",
        "import pandas as pd\n",
        "import tensorflow as tf"
      ],
      "execution_count": 1,
      "outputs": []
    },
    {
      "cell_type": "code",
      "metadata": {
        "id": "cJLDMKHrLTvZ"
      },
      "source": [
        "seed = 2021\n",
        "np.random.seed(seed)\n",
        "tf.random.set_seed(seed)"
      ],
      "execution_count": 2,
      "outputs": []
    },
    {
      "cell_type": "markdown",
      "metadata": {
        "id": "Bn1YykQ-LpfP"
      },
      "source": [
        "### 데이터 전처리"
      ]
    },
    {
      "cell_type": "code",
      "metadata": {
        "id": "hKTAoLZgLccE"
      },
      "source": [
        "from sklearn.datasets import load_iris\n",
        "iris = load_iris()"
      ],
      "execution_count": 3,
      "outputs": []
    },
    {
      "cell_type": "code",
      "metadata": {
        "id": "f2Jyh-FvL1zS"
      },
      "source": [
        "# Min Max Scaling - X\n",
        "from sklearn.preprocessing import MinMaxScaler\n",
        "scaler = MinMaxScaler()\n",
        "iris_scaled = scaler.fit_transform(iris.data)"
      ],
      "execution_count": 4,
      "outputs": []
    },
    {
      "cell_type": "code",
      "metadata": {
        "colab": {
          "base_uri": "https://localhost:8080/"
        },
        "id": "J-5DH9zlMJtT",
        "outputId": "d8903546-47db-42da-8d4b-2ca12abe2065"
      },
      "source": [
        "# One hot encoding - y\n",
        "from tensorflow.keras.utils import to_categorical\n",
        "Y_onehot = to_categorical(iris.target)\n",
        "Y_onehot[:3]"
      ],
      "execution_count": 5,
      "outputs": [
        {
          "output_type": "execute_result",
          "data": {
            "text/plain": [
              "array([[1., 0., 0.],\n",
              "       [1., 0., 0.],\n",
              "       [1., 0., 0.]], dtype=float32)"
            ]
          },
          "metadata": {
            "tags": []
          },
          "execution_count": 5
        }
      ]
    },
    {
      "cell_type": "code",
      "metadata": {
        "colab": {
          "base_uri": "https://localhost:8080/"
        },
        "id": "I1W9yOg0Mw4x",
        "outputId": "7a802d15-d3a0-49b1-a14a-b281a554ad9b"
      },
      "source": [
        "from sklearn.model_selection import train_test_split\n",
        "X_train, X_test, Y_train, Y_test = train_test_split(\n",
        "    iris_scaled, Y_onehot, stratify=Y_onehot,\n",
        "    test_size=0.2, random_state=seed\n",
        ")\n",
        "X_train.shape, X_test.shape, Y_train.shape, Y_test.shape"
      ],
      "execution_count": 6,
      "outputs": [
        {
          "output_type": "execute_result",
          "data": {
            "text/plain": [
              "((120, 4), (30, 4), (120, 3), (30, 3))"
            ]
          },
          "metadata": {
            "tags": []
          },
          "execution_count": 6
        }
      ]
    },
    {
      "cell_type": "markdown",
      "metadata": {
        "id": "GeASikIhOWWM"
      },
      "source": [
        "### 모델 정의/설정/학습/평가"
      ]
    },
    {
      "cell_type": "code",
      "metadata": {
        "id": "P_IL7FnAOHjY"
      },
      "source": [
        "from tensorflow.keras.models import Sequential\n",
        "from tensorflow.keras.layers import Dense"
      ],
      "execution_count": 7,
      "outputs": []
    },
    {
      "cell_type": "code",
      "metadata": {
        "colab": {
          "base_uri": "https://localhost:8080/"
        },
        "id": "KoGiBwD-OmWd",
        "outputId": "7d5ec8e7-aada-4a2c-dcd6-157894a45fcb"
      },
      "source": [
        "model = Sequential([ \n",
        "    Dense(16, input_dim=4, activation='relu'),      # 은닉층(hidden layer)\n",
        "    Dense(3, activation='softmax')     # 출력층, unit의 갯수-one hot vector 크기\n",
        "])\n",
        "model.summary()"
      ],
      "execution_count": 8,
      "outputs": [
        {
          "output_type": "stream",
          "text": [
            "Model: \"sequential\"\n",
            "_________________________________________________________________\n",
            "Layer (type)                 Output Shape              Param #   \n",
            "=================================================================\n",
            "dense (Dense)                (None, 16)                80        \n",
            "_________________________________________________________________\n",
            "dense_1 (Dense)              (None, 3)                 51        \n",
            "=================================================================\n",
            "Total params: 131\n",
            "Trainable params: 131\n",
            "Non-trainable params: 0\n",
            "_________________________________________________________________\n"
          ],
          "name": "stdout"
        }
      ]
    },
    {
      "cell_type": "code",
      "metadata": {
        "id": "ZiIvCAeSP8ag"
      },
      "source": [
        "# 다중 분류: loss값으로 categorical_crossentropy를 셋팅해야 함\n",
        "model.compile(\n",
        "    optimizer='adam', loss='categorical_crossentropy', metrics=['accuracy']\n",
        ")"
      ],
      "execution_count": 9,
      "outputs": []
    },
    {
      "cell_type": "markdown",
      "metadata": {
        "id": "Zl6hCf7DYQUN"
      },
      "source": [
        "- 모델 저장조건 및 자동중단 설정"
      ]
    },
    {
      "cell_type": "code",
      "metadata": {
        "id": "eVjmDV2rYPwc"
      },
      "source": [
        "from tensorflow.keras.callbacks import ModelCheckpoint, EarlyStopping"
      ],
      "execution_count": 10,
      "outputs": []
    },
    {
      "cell_type": "code",
      "metadata": {
        "id": "Gvn4rfSgYkMq"
      },
      "source": [
        "model_path = 'iris_best_model.h5'\n",
        "checkpoint = ModelCheckpoint(\n",
        "    model_path, monitor='val_loss', verbose=0, save_best_only=True\n",
        ")\n",
        "earlystop = EarlyStopping(patience=30)"
      ],
      "execution_count": 11,
      "outputs": []
    },
    {
      "cell_type": "code",
      "metadata": {
        "id": "RDtqUgklQXuq"
      },
      "source": [
        "history = model.fit(\n",
        "    X_train, Y_train, validation_split=0.2,\n",
        "    epochs=5000, batch_size=30, verbose=0,\n",
        "    callbacks=[checkpoint, earlystop]\n",
        ")"
      ],
      "execution_count": 12,
      "outputs": []
    },
    {
      "cell_type": "code",
      "metadata": {
        "id": "iuok5VvRVyxx"
      },
      "source": [
        "from tensorflow.keras.models import load_model\n",
        "best_model = load_model(model_path)"
      ],
      "execution_count": 13,
      "outputs": []
    },
    {
      "cell_type": "code",
      "metadata": {
        "colab": {
          "base_uri": "https://localhost:8080/"
        },
        "id": "F7VNelVMWE1Y",
        "outputId": "a5946d9e-8e4a-4656-9d9f-edd412a0976d"
      },
      "source": [
        "best_model.evaluate(X_test, Y_test)"
      ],
      "execution_count": 14,
      "outputs": [
        {
          "output_type": "stream",
          "text": [
            "1/1 [==============================] - 0s 102ms/step - loss: 0.1012 - accuracy: 0.9667\n"
          ],
          "name": "stdout"
        },
        {
          "output_type": "execute_result",
          "data": {
            "text/plain": [
              "[0.10122501105070114, 0.9666666388511658]"
            ]
          },
          "metadata": {
            "tags": []
          },
          "execution_count": 14
        }
      ]
    },
    {
      "cell_type": "markdown",
      "metadata": {
        "id": "185HhmtSWSkQ"
      },
      "source": [
        "### 학습과정 시각화"
      ]
    },
    {
      "cell_type": "code",
      "metadata": {
        "id": "TuWIaeQtWM7w"
      },
      "source": [
        "import matplotlib.pyplot as plt\n",
        "%matplotlib inline"
      ],
      "execution_count": 15,
      "outputs": []
    },
    {
      "cell_type": "code",
      "metadata": {
        "id": "OFh2xXHYWb_4"
      },
      "source": [
        "y_acc = history.history['accuracy']\n",
        "y_vloss = history.history['val_loss']\n",
        "x_len = np.arange(1, len(y_acc)+1)"
      ],
      "execution_count": 16,
      "outputs": []
    },
    {
      "cell_type": "code",
      "metadata": {
        "colab": {
          "base_uri": "https://localhost:8080/",
          "height": 483
        },
        "id": "AB4w3YQUWeql",
        "outputId": "0245a1c4-330a-43b3-fc74-44e5978fdd2e"
      },
      "source": [
        "plt.figure(figsize=(12,8))\n",
        "plt.plot(x_len, y_acc, 'bo-', label='accuracy', markersize=2)\n",
        "plt.plot(x_len, y_vloss, 'ro-', label='val_loss', markersize=2)\n",
        "plt.legend()\n",
        "plt.show()"
      ],
      "execution_count": 17,
      "outputs": [
        {
          "output_type": "display_data",
          "data": {
            "image/png": "[encoded data removed]",
            "text/plain": [
              "<Figure size 864x576 with 1 Axes>"
            ]
          },
          "metadata": {
            "tags": [],
            "needs_background": "light"
          }
        }
      ]
    },
    {
      "cell_type": "code",
      "metadata": {
        "id": "nZbEvqlYWhs2"
      },
      "source": [
        ""
      ],
      "execution_count": null,
      "outputs": []
    }
  ]
}