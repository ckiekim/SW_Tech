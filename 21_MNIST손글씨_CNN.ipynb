{
  "nbformat": 4,
  "nbformat_minor": 0,
  "metadata": {
    "colab": {
      "name": "21_MNIST손글씨-CNN.ipynb",
      "provenance": [],
      "collapsed_sections": []
    },
    "kernelspec": {
      "name": "python3",
      "display_name": "Python 3"
    },
    "language_info": {
      "name": "python"
    },
    "accelerator": "GPU"
  },
  "cells": [
    {
      "cell_type": "markdown",
      "metadata": {
        "id": "hM66V2YP1QHH"
      },
      "source": [
        "# MNIST 손글씨 - CNN(Convolutional Neural Network)"
      ]
    },
    {
      "cell_type": "markdown",
      "metadata": {
        "id": "AheOwqTN14Gt"
      },
      "source": [
        "### 데이터 전처리"
      ]
    },
    {
      "cell_type": "code",
      "metadata": {
        "colab": {
          "base_uri": "https://localhost:8080/"
        },
        "id": "Lkubn64LuDgn",
        "outputId": "4a180d1f-b16c-4b90-cda8-2f90e5d3b83b"
      },
      "source": [
        "from tensorflow.keras.datasets import mnist\n",
        "(X_train, y_train), (X_test, y_test) = mnist.load_data()"
      ],
      "execution_count": 1,
      "outputs": [
        {
          "output_type": "stream",
          "text": [
            "Downloading data from https://storage.googleapis.com/tensorflow/tf-keras-datasets/mnist.npz\n",
            "11493376/11490434 [==============================] - 0s 0us/step\n"
          ],
          "name": "stdout"
        }
      ]
    },
    {
      "cell_type": "code",
      "metadata": {
        "colab": {
          "base_uri": "https://localhost:8080/"
        },
        "id": "P4UbO6Ez2Vfk",
        "outputId": "c2de28f7-af6a-4814-8559-66d6049b2f15"
      },
      "source": [
        "X_train.shape, y_train.shape, X_test.shape, y_test.shape"
      ],
      "execution_count": 2,
      "outputs": [
        {
          "output_type": "execute_result",
          "data": {
            "text/plain": [
              "((60000, 28, 28), (60000,), (10000, 28, 28), (10000,))"
            ]
          },
          "metadata": {
            "tags": []
          },
          "execution_count": 2
        }
      ]
    },
    {
      "cell_type": "markdown",
      "metadata": {
        "id": "mBrrfMYq21Kp"
      },
      "source": [
        "- 숫자 이미지 보기"
      ]
    },
    {
      "cell_type": "code",
      "metadata": {
        "colab": {
          "base_uri": "https://localhost:8080/",
          "height": 265
        },
        "id": "vZ72a5h52jxJ",
        "outputId": "d770a77e-b085-41c2-8b54-67a01375ff14"
      },
      "source": [
        "import matplotlib.pyplot as plt\n",
        "%matplotlib inline\n",
        "\n",
        "plt.imshow(X_train[0], cmap='Greys')\n",
        "plt.show()"
      ],
      "execution_count": 3,
      "outputs": [
        {
          "output_type": "display_data",
          "data": {
            "image/png": "[encoded data removed]",
            "text/plain": [
              "<Figure size 432x288 with 1 Axes>"
            ]
          },
          "metadata": {
            "tags": [],
            "needs_background": "light"
          }
        }
      ]
    },
    {
      "cell_type": "code",
      "metadata": {
        "id": "hRnx9Gsr3FSG"
      },
      "source": [
        "# 0~1 사이의 값으로 정규화\n",
        "X_train = X_train / 255.\n",
        "X_test = X_test / 255."
      ],
      "execution_count": 4,
      "outputs": []
    },
    {
      "cell_type": "code",
      "metadata": {
        "colab": {
          "base_uri": "https://localhost:8080/"
        },
        "id": "guEoPiZ13xt6",
        "outputId": "5ca7f7f0-9fb4-46a9-9580-fc05be27e93f"
      },
      "source": [
        "# 이미지 데이터가 2차원이므로 3차원으로 변경해 주어야 함\n",
        "X_train = X_train.reshape(-1, 28, 28, 1)\n",
        "X_test = X_test.reshape(-1, 28, 28, 1)\n",
        "X_train.shape, X_test.shape"
      ],
      "execution_count": 5,
      "outputs": [
        {
          "output_type": "execute_result",
          "data": {
            "text/plain": [
              "((60000, 28, 28, 1), (10000, 28, 28, 1))"
            ]
          },
          "metadata": {
            "tags": []
          },
          "execution_count": 5
        }
      ]
    },
    {
      "cell_type": "code",
      "metadata": {
        "colab": {
          "base_uri": "https://localhost:8080/"
        },
        "id": "OpXWS8_i4783",
        "outputId": "5bd8ba9b-1d4b-47bb-8bca-7d5f865fa54f"
      },
      "source": [
        "# y 값의 One-hot encoding\n",
        "from tensorflow.keras.utils import to_categorical\n",
        "Y_train = to_categorical(y_train)\n",
        "Y_test = to_categorical(y_test)\n",
        "Y_train.shape, Y_test.shape"
      ],
      "execution_count": 6,
      "outputs": [
        {
          "output_type": "execute_result",
          "data": {
            "text/plain": [
              "((60000, 10), (10000, 10))"
            ]
          },
          "metadata": {
            "tags": []
          },
          "execution_count": 6
        }
      ]
    },
    {
      "cell_type": "markdown",
      "metadata": {
        "id": "WxNJ99FD5l8E"
      },
      "source": [
        "### CNN 모델 정의/설정/학습/평가"
      ]
    },
    {
      "cell_type": "code",
      "metadata": {
        "id": "BxhQJGUM5k7w"
      },
      "source": [
        "from tensorflow.keras.models import Sequential, load_model\n",
        "from tensorflow.keras.layers import Dense, Conv2D, Flatten\n",
        "from tensorflow.keras.layers import MaxPooling2D, Dropout\n",
        "from tensorflow.keras.callbacks import ModelCheckpoint, EarlyStopping"
      ],
      "execution_count": 7,
      "outputs": []
    },
    {
      "cell_type": "code",
      "metadata": {
        "colab": {
          "base_uri": "https://localhost:8080/"
        },
        "id": "pyc4hUuo5e-X",
        "outputId": "8de34be4-8162-4ddc-d282-f4319e0203e0"
      },
      "source": [
        "model = Sequential([ \n",
        "    Conv2D(32, (3,3), input_shape=(28,28,1), activation='relu'),   \n",
        "    #Conv2D(32, input_shape=X_train.shape[1:], activation='relu')\n",
        "    Conv2D(64, (3,3), activation='relu'),\n",
        "    Flatten(),\n",
        "    Dense(512, activation='relu'),\n",
        "    Dense(10, activation='softmax')    \n",
        "])\n",
        "model.summary()"
      ],
      "execution_count": 8,
      "outputs": [
        {
          "output_type": "stream",
          "text": [
            "Model: \"sequential\"\n",
            "_________________________________________________________________\n",
            "Layer (type)                 Output Shape              Param #   \n",
            "=================================================================\n",
            "conv2d (Conv2D)              (None, 26, 26, 32)        320       \n",
            "_________________________________________________________________\n",
            "conv2d_1 (Conv2D)            (None, 24, 24, 64)        18496     \n",
            "_________________________________________________________________\n",
            "flatten (Flatten)            (None, 36864)             0         \n",
            "_________________________________________________________________\n",
            "dense (Dense)                (None, 512)               18874880  \n",
            "_________________________________________________________________\n",
            "dense_1 (Dense)              (None, 10)                5130      \n",
            "=================================================================\n",
            "Total params: 18,898,826\n",
            "Trainable params: 18,898,826\n",
            "Non-trainable params: 0\n",
            "_________________________________________________________________\n"
          ],
          "name": "stdout"
        }
      ]
    },
    {
      "cell_type": "code",
      "metadata": {
        "colab": {
          "base_uri": "https://localhost:8080/"
        },
        "id": "E9BVwwiF96wc",
        "outputId": "e6e0680c-15f4-4bd3-d5ff-678bc8440730"
      },
      "source": [
        "model = Sequential([ \n",
        "    Conv2D(32, (3,3), input_shape=(28,28,1), activation='relu'),   \n",
        "    Conv2D(64, (3,3), activation='relu'),\n",
        "    MaxPooling2D(pool_size=(2,2)),\n",
        "    Flatten(),\n",
        "    Dense(512, activation='relu'),\n",
        "    Dense(10, activation='softmax')    \n",
        "])\n",
        "model.summary()"
      ],
      "execution_count": 10,
      "outputs": [
        {
          "output_type": "stream",
          "text": [
            "Model: \"sequential_1\"\n",
            "_________________________________________________________________\n",
            "Layer (type)                 Output Shape              Param #   \n",
            "=================================================================\n",
            "conv2d_2 (Conv2D)            (None, 26, 26, 32)        320       \n",
            "_________________________________________________________________\n",
            "conv2d_3 (Conv2D)            (None, 24, 24, 64)        18496     \n",
            "_________________________________________________________________\n",
            "max_pooling2d (MaxPooling2D) (None, 12, 12, 64)        0         \n",
            "_________________________________________________________________\n",
            "flatten_1 (Flatten)          (None, 9216)              0         \n",
            "_________________________________________________________________\n",
            "dense_2 (Dense)              (None, 512)               4719104   \n",
            "_________________________________________________________________\n",
            "dense_3 (Dense)              (None, 10)                5130      \n",
            "=================================================================\n",
            "Total params: 4,743,050\n",
            "Trainable params: 4,743,050\n",
            "Non-trainable params: 0\n",
            "_________________________________________________________________\n"
          ],
          "name": "stdout"
        }
      ]
    },
    {
      "cell_type": "code",
      "metadata": {
        "colab": {
          "base_uri": "https://localhost:8080/"
        },
        "id": "20P-lFSGAeGc",
        "outputId": "c839314c-0cba-4276-d70d-8b274b86a009"
      },
      "source": [
        "model = Sequential([ \n",
        "    Conv2D(32, (3,3), input_shape=(28,28,1), activation='relu'),   \n",
        "    Conv2D(64, (3,3), activation='relu'),\n",
        "    MaxPooling2D(pool_size=(2,2)),\n",
        "    Dropout(0.25),\n",
        "    Flatten(),\n",
        "    Dense(512, activation='relu'),\n",
        "    Dropout(0.5),\n",
        "    Dense(10, activation='softmax')    \n",
        "])\n",
        "model.summary()"
      ],
      "execution_count": 8,
      "outputs": [
        {
          "output_type": "stream",
          "text": [
            "Model: \"sequential\"\n",
            "_________________________________________________________________\n",
            "Layer (type)                 Output Shape              Param #   \n",
            "=================================================================\n",
            "conv2d (Conv2D)              (None, 26, 26, 32)        320       \n",
            "_________________________________________________________________\n",
            "conv2d_1 (Conv2D)            (None, 24, 24, 64)        18496     \n",
            "_________________________________________________________________\n",
            "max_pooling2d (MaxPooling2D) (None, 12, 12, 64)        0         \n",
            "_________________________________________________________________\n",
            "dropout (Dropout)            (None, 12, 12, 64)        0         \n",
            "_________________________________________________________________\n",
            "flatten (Flatten)            (None, 9216)              0         \n",
            "_________________________________________________________________\n",
            "dense (Dense)                (None, 512)               4719104   \n",
            "_________________________________________________________________\n",
            "dropout_1 (Dropout)          (None, 512)               0         \n",
            "_________________________________________________________________\n",
            "dense_1 (Dense)              (None, 10)                5130      \n",
            "=================================================================\n",
            "Total params: 4,743,050\n",
            "Trainable params: 4,743,050\n",
            "Non-trainable params: 0\n",
            "_________________________________________________________________\n"
          ],
          "name": "stdout"
        }
      ]
    },
    {
      "cell_type": "code",
      "metadata": {
        "id": "g0SFBDiUC37J"
      },
      "source": [
        "model.compile(\n",
        "    optimizer='adam', loss='categorical_crossentropy', metrics=['accuracy']\n",
        ")"
      ],
      "execution_count": 9,
      "outputs": []
    },
    {
      "cell_type": "code",
      "metadata": {
        "id": "b0_Lt5p_DiXc"
      },
      "source": [
        "# 모델 최적화와 조기 종료를 위한 설정\n",
        "modelpath = 'best_mnist_cnn.h5'\n",
        "checkpoint = ModelCheckpoint(modelpath, verbose=1, save_best_only=True)\n",
        "earlystop = EarlyStopping(patience=5)"
      ],
      "execution_count": 10,
      "outputs": []
    },
    {
      "cell_type": "code",
      "metadata": {
        "colab": {
          "base_uri": "https://localhost:8080/"
        },
        "id": "xft0ZleXEFAw",
        "outputId": "e27efda9-44fe-40fd-9e5c-924bc8810ed0"
      },
      "source": [
        "# 모델 학습\n",
        "history = model.fit(\n",
        "    X_train, Y_train, validation_split=0.2,\n",
        "    epochs=50, batch_size=200, callbacks=[checkpoint, earlystop]\n",
        ")"
      ],
      "execution_count": 11,
      "outputs": [
        {
          "output_type": "stream",
          "text": [
            "Epoch 1/50\n",
            "240/240 [==============================] - 35s 14ms/step - loss: 0.2211 - accuracy: 0.9326 - val_loss: 0.0620 - val_accuracy: 0.9819\n",
            "\n",
            "Epoch 00001: val_loss improved from inf to 0.06200, saving model to best_mnist_cnn.h5\n",
            "Epoch 2/50\n",
            "240/240 [==============================] - 3s 13ms/step - loss: 0.0648 - accuracy: 0.9802 - val_loss: 0.0430 - val_accuracy: 0.9873\n",
            "\n",
            "Epoch 00002: val_loss improved from 0.06200 to 0.04301, saving model to best_mnist_cnn.h5\n",
            "Epoch 3/50\n",
            "240/240 [==============================] - 3s 13ms/step - loss: 0.0451 - accuracy: 0.9861 - val_loss: 0.0423 - val_accuracy: 0.9876\n",
            "\n",
            "Epoch 00003: val_loss improved from 0.04301 to 0.04228, saving model to best_mnist_cnn.h5\n",
            "Epoch 4/50\n",
            "240/240 [==============================] - 3s 13ms/step - loss: 0.0343 - accuracy: 0.9891 - val_loss: 0.0425 - val_accuracy: 0.9872\n",
            "\n",
            "Epoch 00004: val_loss did not improve from 0.04228\n",
            "Epoch 5/50\n",
            "240/240 [==============================] - 3s 13ms/step - loss: 0.0290 - accuracy: 0.9904 - val_loss: 0.0370 - val_accuracy: 0.9896\n",
            "\n",
            "Epoch 00005: val_loss improved from 0.04228 to 0.03702, saving model to best_mnist_cnn.h5\n",
            "Epoch 6/50\n",
            "240/240 [==============================] - 3s 12ms/step - loss: 0.0227 - accuracy: 0.9924 - val_loss: 0.0348 - val_accuracy: 0.9895\n",
            "\n",
            "Epoch 00006: val_loss improved from 0.03702 to 0.03484, saving model to best_mnist_cnn.h5\n",
            "Epoch 7/50\n",
            "240/240 [==============================] - 3s 12ms/step - loss: 0.0194 - accuracy: 0.9929 - val_loss: 0.0366 - val_accuracy: 0.9901\n",
            "\n",
            "Epoch 00007: val_loss did not improve from 0.03484\n",
            "Epoch 8/50\n",
            "240/240 [==============================] - 3s 12ms/step - loss: 0.0171 - accuracy: 0.9944 - val_loss: 0.0376 - val_accuracy: 0.9893\n",
            "\n",
            "Epoch 00008: val_loss did not improve from 0.03484\n",
            "Epoch 9/50\n",
            "240/240 [==============================] - 3s 13ms/step - loss: 0.0147 - accuracy: 0.9952 - val_loss: 0.0359 - val_accuracy: 0.9909\n",
            "\n",
            "Epoch 00009: val_loss did not improve from 0.03484\n",
            "Epoch 10/50\n",
            "240/240 [==============================] - 3s 12ms/step - loss: 0.0126 - accuracy: 0.9955 - val_loss: 0.0368 - val_accuracy: 0.9913\n",
            "\n",
            "Epoch 00010: val_loss did not improve from 0.03484\n",
            "Epoch 11/50\n",
            "240/240 [==============================] - 3s 12ms/step - loss: 0.0119 - accuracy: 0.9960 - val_loss: 0.0370 - val_accuracy: 0.9907\n",
            "\n",
            "Epoch 00011: val_loss did not improve from 0.03484\n"
          ],
          "name": "stdout"
        }
      ]
    },
    {
      "cell_type": "code",
      "metadata": {
        "colab": {
          "base_uri": "https://localhost:8080/"
        },
        "id": "ivcDLQUNFvhf",
        "outputId": "b715aab9-1620-4a99-ddb3-aaab89a7101f"
      },
      "source": [
        "best_model = load_model(modelpath)\n",
        "best_model.evaluate(X_test, Y_test)"
      ],
      "execution_count": 17,
      "outputs": [
        {
          "output_type": "stream",
          "text": [
            "313/313 [==============================] - 1s 3ms/step - loss: 0.0300 - accuracy: 0.9901\n"
          ],
          "name": "stdout"
        },
        {
          "output_type": "execute_result",
          "data": {
            "text/plain": [
              "[0.030023932456970215, 0.9901000261306763]"
            ]
          },
          "metadata": {
            "tags": []
          },
          "execution_count": 17
        }
      ]
    },
    {
      "cell_type": "markdown",
      "metadata": {
        "id": "BST-uERIHHM0"
      },
      "source": [
        "### 훈련과정 시각화"
      ]
    },
    {
      "cell_type": "code",
      "metadata": {
        "id": "ai0bkaF2GGCQ"
      },
      "source": [
        "import numpy as np\n",
        "y_vloss = history.history['val_loss']\n",
        "y_acc = history.history['accuracy']\n",
        "x_len = np.arange(len(y_acc))"
      ],
      "execution_count": 19,
      "outputs": []
    },
    {
      "cell_type": "code",
      "metadata": {
        "colab": {
          "base_uri": "https://localhost:8080/",
          "height": 483
        },
        "id": "Oy2ln4RCHLnR",
        "outputId": "729154e9-0801-4ef5-a2c4-aaf006aaa73a"
      },
      "source": [
        "import matplotlib.pyplot as plt\n",
        "%matplotlib inline\n",
        "\n",
        "plt.figure(figsize=(12,8))\n",
        "plt.plot(x_len, y_acc, 'bo-', markersize=2, label='accuracy')\n",
        "plt.plot(x_len, y_vloss, 'ro-', markersize=2, label='val_loss')\n",
        "plt.legend()\n",
        "plt.show()\n"
      ],
      "execution_count": 20,
      "outputs": [
        {
          "output_type": "display_data",
          "data": {
            "image/png": "[encoded data removed]",
            "text/plain": [
              "<Figure size 864x576 with 1 Axes>"
            ]
          },
          "metadata": {
            "tags": [],
            "needs_background": "light"
          }
        }
      ]
    }
  ]
}